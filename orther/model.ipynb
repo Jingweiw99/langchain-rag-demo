{
 "cells": [
  {
   "cell_type": "code",
   "execution_count": null,
   "metadata": {},
   "outputs": [],
   "source": [
    "from modelscope.hub.snapshot_download import snapshot_download\n",
    "\n",
    "# 下载模型并返回路径 会下在本地\n",
    "model_dir = snapshot_download('Qwen/Qwen3-1.7B')\n",
    "print(f\"模型路径：{model_dir}\")"
   ]
  }
 ],
 "metadata": {
  "language_info": {
   "name": "python"
  },
  "orig_nbformat": 4
 },
 "nbformat": 4,
 "nbformat_minor": 2
}
